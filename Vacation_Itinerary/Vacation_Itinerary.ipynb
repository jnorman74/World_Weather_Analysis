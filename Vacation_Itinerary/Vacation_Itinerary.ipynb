{
 "cells": [
  {
   "cell_type": "markdown",
   "metadata": {},
   "source": [
    "## Deliverable 3. Create a Travel Itinerary Map."
   ]
  },
  {
   "cell_type": "code",
   "execution_count": 1,
   "metadata": {},
   "outputs": [],
   "source": [
    "# Dependencies and Setup\n",
    "import pandas as pd\n",
    "import requests\n",
    "import gmaps\n",
    "import gmaps.datasets\n",
    "\n",
    "# Import API key\n",
    "from config import g_key\n",
    "\n",
    "# Configure gmaps\n",
    "gmaps.configure(api_key=g_key)"
   ]
  },
  {
   "cell_type": "code",
   "execution_count": 2,
   "metadata": {},
   "outputs": [
    {
     "output_type": "execute_result",
     "data": {
      "text/plain": "   City_ID             City Country  Max Temp Current Description    Lat  \\\n0        1           Avarua      CK     78.80    scattered clouds -21.21   \n1        5           Sorong      ID     78.78     overcast clouds  -0.88   \n2        9  Varzea Da Palma      BR     83.16    scattered clouds -17.60   \n3       12            Vaini      TO     78.80          few clouds -21.20   \n4       13           Atuona      PF     78.15          light rain  -9.80   \n\n      Lng           Hotel Name  \n0 -159.78         Paradise Inn  \n1  131.25      The Waigo Hotel  \n2  -44.73   Hotel Mineiro Ltda  \n3 -175.20  Keleti Beach Resort  \n4 -139.03          Villa Enata  ",
      "text/html": "<div>\n<style scoped>\n    .dataframe tbody tr th:only-of-type {\n        vertical-align: middle;\n    }\n\n    .dataframe tbody tr th {\n        vertical-align: top;\n    }\n\n    .dataframe thead th {\n        text-align: right;\n    }\n</style>\n<table border=\"1\" class=\"dataframe\">\n  <thead>\n    <tr style=\"text-align: right;\">\n      <th></th>\n      <th>City_ID</th>\n      <th>City</th>\n      <th>Country</th>\n      <th>Max Temp</th>\n      <th>Current Description</th>\n      <th>Lat</th>\n      <th>Lng</th>\n      <th>Hotel Name</th>\n    </tr>\n  </thead>\n  <tbody>\n    <tr>\n      <th>0</th>\n      <td>1</td>\n      <td>Avarua</td>\n      <td>CK</td>\n      <td>78.80</td>\n      <td>scattered clouds</td>\n      <td>-21.21</td>\n      <td>-159.78</td>\n      <td>Paradise Inn</td>\n    </tr>\n    <tr>\n      <th>1</th>\n      <td>5</td>\n      <td>Sorong</td>\n      <td>ID</td>\n      <td>78.78</td>\n      <td>overcast clouds</td>\n      <td>-0.88</td>\n      <td>131.25</td>\n      <td>The Waigo Hotel</td>\n    </tr>\n    <tr>\n      <th>2</th>\n      <td>9</td>\n      <td>Varzea Da Palma</td>\n      <td>BR</td>\n      <td>83.16</td>\n      <td>scattered clouds</td>\n      <td>-17.60</td>\n      <td>-44.73</td>\n      <td>Hotel Mineiro Ltda</td>\n    </tr>\n    <tr>\n      <th>3</th>\n      <td>12</td>\n      <td>Vaini</td>\n      <td>TO</td>\n      <td>78.80</td>\n      <td>few clouds</td>\n      <td>-21.20</td>\n      <td>-175.20</td>\n      <td>Keleti Beach Resort</td>\n    </tr>\n    <tr>\n      <th>4</th>\n      <td>13</td>\n      <td>Atuona</td>\n      <td>PF</td>\n      <td>78.15</td>\n      <td>light rain</td>\n      <td>-9.80</td>\n      <td>-139.03</td>\n      <td>Villa Enata</td>\n    </tr>\n  </tbody>\n</table>\n</div>"
     },
     "metadata": {},
     "execution_count": 2
    }
   ],
   "source": [
    "# 1. Read the WeatherPy_vacation.csv into a DataFrame.\n",
    "vacation_df = pd.read_csv(\"../Vacation_Search/WeatherPy_vacation.csv\")\n",
    "vacation_df.head()"
   ]
  },
  {
   "cell_type": "code",
   "execution_count": 3,
   "metadata": {},
   "outputs": [],
   "source": [
    "# 2. Using the template add the city name, the country code, the weather description and maximum temperature for the city.\n",
    "info_box_template = \"\"\"\n",
    "<dl>\n",
    "<dt>City</dt><dd>{City}</dd>\n",
    "<dt>Country</dt><dd>{Country}</dd>\n",
    "<dt>Current Description</dt><dd>{Current Description}</dd>\n",
    "<dt>Max Temp</dt><dd>{Max Temp} °F</dd>\n",
    "</dl>\n",
    "\"\"\"\n",
    "\n",
    "# 3a. Get the data from each row and add it to the formatting template and store the data in a list.\n",
    "hotel_info = [info_box_template.format(**row) for index, row in vacation_df.iterrows()]\n",
    "\n",
    "# 3b. Get the latitude and longitude from each row and store in a new DataFrame.\n",
    "locations = vacation_df[[\"Lat\", \"Lng\"]]"
   ]
  },
  {
   "cell_type": "code",
   "execution_count": 4,
   "metadata": {},
   "outputs": [
    {
     "output_type": "display_data",
     "data": {
      "text/plain": "Figure(layout=FigureLayout(height=&#39;420px&#39;))",
      "application/vnd.jupyter.widget-view+json": {
       "version_major": 2,
       "version_minor": 0,
       "model_id": "adb1fed67ea741cc8104699ddc7851de"
      }
     },
     "metadata": {}
    }
   ],
   "source": [
    "# 4a. Add a marker layer for each city to the map.\n",
    "fig = gmaps.figure(center=(30.0, 31.0), zoom_level=1.5)\n",
    "marker_layer = gmaps.marker_layer(locations, info_box_content=hotel_info)\n",
    "fig.add_layer(marker_layer)\n",
    "# 4b. Display the figure\n",
    "fig\n"
   ]
  },
  {
   "cell_type": "code",
   "execution_count": 5,
   "metadata": {},
   "outputs": [],
   "source": [
    "# From the map above pick 4 cities and create a vacation itinerary route to travel between the four cities. \n",
    "# 5. Create DataFrames for each city by filtering the 'vacation_df' using the loc method. \n",
    "# Hint: The starting and ending city should be the same city.\n",
    "\n",
    "vacation_start = vacation_df.loc[vacation_df['City'] == \"Moron\"]\n",
    "vacation_end = vacation_df.loc[vacation_df['City'] == \"Moron\"]\n",
    "vacation_stop1 = vacation_df.loc[vacation_df['City'] == \"Villa Carlos Paz\"]\n",
    "vacation_stop2 = vacation_df.loc[vacation_df['City'] == \"San Vicente\"] \n",
    "vacation_stop3 = vacation_df.loc[vacation_df['City'] == \"Santa Maria\"]"
   ]
  },
  {
   "cell_type": "code",
   "execution_count": 6,
   "metadata": {},
   "outputs": [],
   "source": [
    "# 6. Get the latitude-longitude pairs as tuples from each city DataFrame using the to_numpy function and list indexing.\n",
    "start = tuple(vacation_start.to_numpy()[0][5:7])\n",
    "end = tuple(vacation_end.to_numpy()[0][5:7])\n",
    "stop1 = tuple(vacation_stop1.to_numpy()[0][5:7])\n",
    "stop2 = tuple(vacation_stop2.to_numpy()[0][5:7])\n",
    "stop3 = tuple(vacation_stop3.to_numpy()[0][5:7])"
   ]
  },
  {
   "cell_type": "code",
   "execution_count": 7,
   "metadata": {
    "scrolled": true
   },
   "outputs": [
    {
     "output_type": "display_data",
     "data": {
      "text/plain": "Figure(layout=FigureLayout(height=&#39;420px&#39;))",
      "application/vnd.jupyter.widget-view+json": {
       "version_major": 2,
       "version_minor": 0,
       "model_id": "1fa651636a184cef90beed7f5ce569b8"
      }
     },
     "metadata": {}
    }
   ],
   "source": [
    "# 7. Create a direction layer map using the start and end latitude-longitude pairs,\n",
    "# and stop1, stop2, and stop3 as the waypoints. The travel_mode should be \"DRIVING\", \"BICYCLING\", or \"WALKING\".\n",
    "fig = gmaps.figure()\n",
    "moron_to_santa_maria = gmaps.directions_layer(\n",
    "        start, end, waypoints=[stop1, stop2, stop3],\n",
    "        travel_mode='DRIVING')\n",
    "fig.add_layer(moron_to_santa_maria)\n",
    "fig"
   ]
  },
  {
   "cell_type": "code",
   "execution_count": 8,
   "metadata": {},
   "outputs": [
    {
     "output_type": "execute_result",
     "data": {
      "text/plain": "   City_ID              City Country  Max Temp Current Description    Lat  \\\n0      202             Moron      AR     75.20           clear sky -34.65   \n1      317  Villa Carlos Paz      AR     80.60                dust -31.42   \n2      577       San Vicente      AR     80.17          light rain -26.62   \n3      191       Santa Maria      BR     76.33          few clouds -29.68   \n\n     Lng                   Hotel Name  \n0 -58.62                  Hotel Morón  \n1 -64.50                  Monte Carlo  \n2 -54.13  Complejo Turístico Farelluk  \n3 -53.81                Hotel Morotin  ",
      "text/html": "<div>\n<style scoped>\n    .dataframe tbody tr th:only-of-type {\n        vertical-align: middle;\n    }\n\n    .dataframe tbody tr th {\n        vertical-align: top;\n    }\n\n    .dataframe thead th {\n        text-align: right;\n    }\n</style>\n<table border=\"1\" class=\"dataframe\">\n  <thead>\n    <tr style=\"text-align: right;\">\n      <th></th>\n      <th>City_ID</th>\n      <th>City</th>\n      <th>Country</th>\n      <th>Max Temp</th>\n      <th>Current Description</th>\n      <th>Lat</th>\n      <th>Lng</th>\n      <th>Hotel Name</th>\n    </tr>\n  </thead>\n  <tbody>\n    <tr>\n      <th>0</th>\n      <td>202</td>\n      <td>Moron</td>\n      <td>AR</td>\n      <td>75.20</td>\n      <td>clear sky</td>\n      <td>-34.65</td>\n      <td>-58.62</td>\n      <td>Hotel Morón</td>\n    </tr>\n    <tr>\n      <th>1</th>\n      <td>317</td>\n      <td>Villa Carlos Paz</td>\n      <td>AR</td>\n      <td>80.60</td>\n      <td>dust</td>\n      <td>-31.42</td>\n      <td>-64.50</td>\n      <td>Monte Carlo</td>\n    </tr>\n    <tr>\n      <th>2</th>\n      <td>577</td>\n      <td>San Vicente</td>\n      <td>AR</td>\n      <td>80.17</td>\n      <td>light rain</td>\n      <td>-26.62</td>\n      <td>-54.13</td>\n      <td>Complejo Turístico Farelluk</td>\n    </tr>\n    <tr>\n      <th>3</th>\n      <td>191</td>\n      <td>Santa Maria</td>\n      <td>BR</td>\n      <td>76.33</td>\n      <td>few clouds</td>\n      <td>-29.68</td>\n      <td>-53.81</td>\n      <td>Hotel Morotin</td>\n    </tr>\n  </tbody>\n</table>\n</div>"
     },
     "metadata": {},
     "execution_count": 8
    }
   ],
   "source": [
    "# 8. To create a marker layer map between the four cities.\n",
    "#  Combine the four city DataFrames into one DataFrame using the concat() function.\n",
    "itinerary_df = pd.concat([vacation_start, vacation_stop1, vacation_stop2, vacation_stop3],ignore_index=True)\n",
    "itinerary_df"
   ]
  },
  {
   "cell_type": "code",
   "execution_count": 9,
   "metadata": {},
   "outputs": [],
   "source": [
    "# 9 Using the template add city name, the country code, the weather description and maximum temperature for the city. \n",
    "info_box_template = \"\"\"\n",
    "<dl>\n",
    "<dt>City</dt><dd>{City}</dd>\n",
    "<dt>Country</dt><dd>{Country}</dd>\n",
    "<dt>Current Description</dt><dd>{Current Description}</dd>\n",
    "<dt>Max Temp</dt><dd>{Max Temp} °F</dd>\n",
    "</dl>\n",
    "\"\"\"\n",
    "\n",
    "# 10a Get the data from each row and add it to the formatting template and store the data in a list.\n",
    "hotel_info = [info_box_template.format(**row) for index, row in itinerary_df.iterrows()]\n",
    "\n",
    "# 10b. Get the latitude and longitude from each row and store in a new DataFrame.\n",
    "locations = itinerary_df[[\"Lat\", \"Lng\"]]"
   ]
  },
  {
   "cell_type": "code",
   "execution_count": 10,
   "metadata": {},
   "outputs": [
    {
     "output_type": "display_data",
     "data": {
      "text/plain": "Figure(layout=FigureLayout(height=&#39;420px&#39;))",
      "application/vnd.jupyter.widget-view+json": {
       "version_major": 2,
       "version_minor": 0,
       "model_id": "84f76fe9e37b429d824eac8c51d88e0b"
      }
     },
     "metadata": {}
    }
   ],
   "source": [
    "# 11a. Add a marker layer for each city to the map.\n",
    "fig = gmaps.figure(center=(30.0, 31.0), zoom_level=1.5)\n",
    "marker_layer = gmaps.marker_layer(locations, info_box_content=hotel_info)\n",
    "fig.add_layer(marker_layer)\n",
    "# 11b. Display the figure\n",
    "fig"
   ]
  },
  {
   "cell_type": "code",
   "execution_count": null,
   "metadata": {},
   "outputs": [],
   "source": []
  }
 ],
 "metadata": {
  "kernelspec": {
   "display_name": "data-bootcamp",
   "language": "python",
   "name": "data-bootcamp"
  },
  "language_info": {
   "codemirror_mode": {
    "name": "ipython",
    "version": 3
   },
   "file_extension": ".py",
   "mimetype": "text/x-python",
   "name": "python",
   "nbconvert_exporter": "python",
   "pygments_lexer": "ipython3",
   "version": "3.8.3-final"
  },
  "latex_envs": {
   "LaTeX_envs_menu_present": true,
   "autoclose": false,
   "autocomplete": true,
   "bibliofile": "biblio.bib",
   "cite_by": "apalike",
   "current_citInitial": 1,
   "eqLabelWithNumbers": true,
   "eqNumInitial": 1,
   "hotkeys": {
    "equation": "Ctrl-E",
    "itemize": "Ctrl-I"
   },
   "labels_anchors": false,
   "latex_user_defs": false,
   "report_style_numbering": false,
   "user_envs_cfg": false
  }
 },
 "nbformat": 4,
 "nbformat_minor": 4
}