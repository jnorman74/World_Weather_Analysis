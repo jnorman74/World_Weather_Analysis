{
 "cells": [
  {
   "cell_type": "markdown",
   "metadata": {},
   "source": [
    "## Deliverable 2. Create a Customer Travel Destinations Map."
   ]
  },
  {
   "cell_type": "code",
   "execution_count": 1,
   "metadata": {},
   "outputs": [],
   "source": [
    "# Dependencies and Setup\n",
    "import pandas as pd\n",
    "import requests\n",
    "import gmaps\n",
    "\n",
    "# Import API key\n",
    "from config import g_key\n",
    "\n",
    "# Configure gmaps API key\n",
    "gmaps.configure(api_key=g_key)"
   ]
  },
  {
   "cell_type": "code",
   "execution_count": 2,
   "metadata": {},
   "outputs": [
    {
     "output_type": "execute_result",
     "data": {
      "text/plain": "   City_ID               City Country    Lat     Lng  Max Temp  Humidity  \\\n0        0            Iquique      CL -20.22  -70.14     62.60        72   \n1        1             Avarua      CK -21.21 -159.78     78.80        83   \n2        2            Qaanaaq      GL  77.48  -69.36     11.07        78   \n3        3     Ribeira Grande      PT  38.52  -28.70     69.78        81   \n4        4  Novokruchininskiy      RU  51.78  113.77     37.40        82   \n\n   Cloudiness  Wind Speed Current Description  \n0          90       17.22     overcast clouds  \n1          25       18.34    scattered clouds  \n2           0        6.96           clear sky  \n3          87       10.27     overcast clouds  \n4          40        4.90    scattered clouds  ",
      "text/html": "<div>\n<style scoped>\n    .dataframe tbody tr th:only-of-type {\n        vertical-align: middle;\n    }\n\n    .dataframe tbody tr th {\n        vertical-align: top;\n    }\n\n    .dataframe thead th {\n        text-align: right;\n    }\n</style>\n<table border=\"1\" class=\"dataframe\">\n  <thead>\n    <tr style=\"text-align: right;\">\n      <th></th>\n      <th>City_ID</th>\n      <th>City</th>\n      <th>Country</th>\n      <th>Lat</th>\n      <th>Lng</th>\n      <th>Max Temp</th>\n      <th>Humidity</th>\n      <th>Cloudiness</th>\n      <th>Wind Speed</th>\n      <th>Current Description</th>\n    </tr>\n  </thead>\n  <tbody>\n    <tr>\n      <th>0</th>\n      <td>0</td>\n      <td>Iquique</td>\n      <td>CL</td>\n      <td>-20.22</td>\n      <td>-70.14</td>\n      <td>62.60</td>\n      <td>72</td>\n      <td>90</td>\n      <td>17.22</td>\n      <td>overcast clouds</td>\n    </tr>\n    <tr>\n      <th>1</th>\n      <td>1</td>\n      <td>Avarua</td>\n      <td>CK</td>\n      <td>-21.21</td>\n      <td>-159.78</td>\n      <td>78.80</td>\n      <td>83</td>\n      <td>25</td>\n      <td>18.34</td>\n      <td>scattered clouds</td>\n    </tr>\n    <tr>\n      <th>2</th>\n      <td>2</td>\n      <td>Qaanaaq</td>\n      <td>GL</td>\n      <td>77.48</td>\n      <td>-69.36</td>\n      <td>11.07</td>\n      <td>78</td>\n      <td>0</td>\n      <td>6.96</td>\n      <td>clear sky</td>\n    </tr>\n    <tr>\n      <th>3</th>\n      <td>3</td>\n      <td>Ribeira Grande</td>\n      <td>PT</td>\n      <td>38.52</td>\n      <td>-28.70</td>\n      <td>69.78</td>\n      <td>81</td>\n      <td>87</td>\n      <td>10.27</td>\n      <td>overcast clouds</td>\n    </tr>\n    <tr>\n      <th>4</th>\n      <td>4</td>\n      <td>Novokruchininskiy</td>\n      <td>RU</td>\n      <td>51.78</td>\n      <td>113.77</td>\n      <td>37.40</td>\n      <td>82</td>\n      <td>40</td>\n      <td>4.90</td>\n      <td>scattered clouds</td>\n    </tr>\n  </tbody>\n</table>\n</div>"
     },
     "metadata": {},
     "execution_count": 2
    }
   ],
   "source": [
    "# 1. Import the WeatherPy_database.csv file. \n",
    "city_data_df = pd.read_csv(\"../Weather_Database/WeatherPy_database.csv\")\n",
    "city_data_df.head()"
   ]
  },
  {
   "cell_type": "code",
   "execution_count": 4,
   "metadata": {},
   "outputs": [],
   "source": [
    "# 2. Prompt the user to enter minimum and maximum temperature criteria \n",
    "min_temp = float(input(\"What is the minimum temperature for your destination?\"))\n",
    "max_temp = float(input(\"What is the maximum temperature for your destination?\"))"
   ]
  },
  {
   "cell_type": "code",
   "execution_count": 5,
   "metadata": {},
   "outputs": [
    {
     "output_type": "execute_result",
     "data": {
      "text/plain": "    City_ID             City Country    Lat     Lng  Max Temp  Humidity  \\\n1         1           Avarua      CK -21.21 -159.78     78.80        83   \n5         5           Sorong      ID  -0.88  131.25     78.78        87   \n9         9  Varzea Da Palma      BR -17.60  -44.73     83.16        31   \n12       12            Vaini      TO -21.20 -175.20     78.80        83   \n13       13           Atuona      PF  -9.80 -139.03     78.15        77   \n18       18       Vila Velha      BR -20.33  -40.29     80.01        83   \n21       21           Davila      PH  18.47  120.58     77.00       100   \n23       23       Sao Filipe      CV  14.90  -24.50     79.32        80   \n24       24          Panguna      PG  -6.32  155.48     79.47        75   \n25       25          Wanning      CN  18.80  110.40     78.96        88   \n\n    Cloudiness  Wind Speed   Current Description  \n1           25       18.34      scattered clouds  \n5          100        8.84       overcast clouds  \n9           42        6.55      scattered clouds  \n12          20       11.41            few clouds  \n13          17       20.02            light rain  \n18           2       14.99             clear sky  \n21          75        2.24         broken clouds  \n23          10        7.92             clear sky  \n24         100        2.17            light rain  \n25          61        3.80  heavy intensity rain  ",
      "text/html": "<div>\n<style scoped>\n    .dataframe tbody tr th:only-of-type {\n        vertical-align: middle;\n    }\n\n    .dataframe tbody tr th {\n        vertical-align: top;\n    }\n\n    .dataframe thead th {\n        text-align: right;\n    }\n</style>\n<table border=\"1\" class=\"dataframe\">\n  <thead>\n    <tr style=\"text-align: right;\">\n      <th></th>\n      <th>City_ID</th>\n      <th>City</th>\n      <th>Country</th>\n      <th>Lat</th>\n      <th>Lng</th>\n      <th>Max Temp</th>\n      <th>Humidity</th>\n      <th>Cloudiness</th>\n      <th>Wind Speed</th>\n      <th>Current Description</th>\n    </tr>\n  </thead>\n  <tbody>\n    <tr>\n      <th>1</th>\n      <td>1</td>\n      <td>Avarua</td>\n      <td>CK</td>\n      <td>-21.21</td>\n      <td>-159.78</td>\n      <td>78.80</td>\n      <td>83</td>\n      <td>25</td>\n      <td>18.34</td>\n      <td>scattered clouds</td>\n    </tr>\n    <tr>\n      <th>5</th>\n      <td>5</td>\n      <td>Sorong</td>\n      <td>ID</td>\n      <td>-0.88</td>\n      <td>131.25</td>\n      <td>78.78</td>\n      <td>87</td>\n      <td>100</td>\n      <td>8.84</td>\n      <td>overcast clouds</td>\n    </tr>\n    <tr>\n      <th>9</th>\n      <td>9</td>\n      <td>Varzea Da Palma</td>\n      <td>BR</td>\n      <td>-17.60</td>\n      <td>-44.73</td>\n      <td>83.16</td>\n      <td>31</td>\n      <td>42</td>\n      <td>6.55</td>\n      <td>scattered clouds</td>\n    </tr>\n    <tr>\n      <th>12</th>\n      <td>12</td>\n      <td>Vaini</td>\n      <td>TO</td>\n      <td>-21.20</td>\n      <td>-175.20</td>\n      <td>78.80</td>\n      <td>83</td>\n      <td>20</td>\n      <td>11.41</td>\n      <td>few clouds</td>\n    </tr>\n    <tr>\n      <th>13</th>\n      <td>13</td>\n      <td>Atuona</td>\n      <td>PF</td>\n      <td>-9.80</td>\n      <td>-139.03</td>\n      <td>78.15</td>\n      <td>77</td>\n      <td>17</td>\n      <td>20.02</td>\n      <td>light rain</td>\n    </tr>\n    <tr>\n      <th>18</th>\n      <td>18</td>\n      <td>Vila Velha</td>\n      <td>BR</td>\n      <td>-20.33</td>\n      <td>-40.29</td>\n      <td>80.01</td>\n      <td>83</td>\n      <td>2</td>\n      <td>14.99</td>\n      <td>clear sky</td>\n    </tr>\n    <tr>\n      <th>21</th>\n      <td>21</td>\n      <td>Davila</td>\n      <td>PH</td>\n      <td>18.47</td>\n      <td>120.58</td>\n      <td>77.00</td>\n      <td>100</td>\n      <td>75</td>\n      <td>2.24</td>\n      <td>broken clouds</td>\n    </tr>\n    <tr>\n      <th>23</th>\n      <td>23</td>\n      <td>Sao Filipe</td>\n      <td>CV</td>\n      <td>14.90</td>\n      <td>-24.50</td>\n      <td>79.32</td>\n      <td>80</td>\n      <td>10</td>\n      <td>7.92</td>\n      <td>clear sky</td>\n    </tr>\n    <tr>\n      <th>24</th>\n      <td>24</td>\n      <td>Panguna</td>\n      <td>PG</td>\n      <td>-6.32</td>\n      <td>155.48</td>\n      <td>79.47</td>\n      <td>75</td>\n      <td>100</td>\n      <td>2.17</td>\n      <td>light rain</td>\n    </tr>\n    <tr>\n      <th>25</th>\n      <td>25</td>\n      <td>Wanning</td>\n      <td>CN</td>\n      <td>18.80</td>\n      <td>110.40</td>\n      <td>78.96</td>\n      <td>88</td>\n      <td>61</td>\n      <td>3.80</td>\n      <td>heavy intensity rain</td>\n    </tr>\n  </tbody>\n</table>\n</div>"
     },
     "metadata": {},
     "execution_count": 5
    }
   ],
   "source": [
    "# 3. Filter the city_data_df DataFrame using the input statements to create a new DataFrame using the loc method.\n",
    "preferred_cities_df = city_data_df.loc[(city_data_df[\"Max Temp\"] <= max_temp) & \\\n",
    "                                       (city_data_df[\"Max Temp\"] >= min_temp)]\n",
    "preferred_cities_df.head(10)"
   ]
  },
  {
   "cell_type": "code",
   "execution_count": 6,
   "metadata": {},
   "outputs": [
    {
     "output_type": "execute_result",
     "data": {
      "text/plain": "City_ID                0\nCity                   0\nCountry                0\nLat                    0\nLng                    0\nMax Temp               0\nHumidity               0\nCloudiness             0\nWind Speed             0\nCurrent Description    0\ndtype: int64"
     },
     "metadata": {},
     "execution_count": 6
    }
   ],
   "source": [
    "# 4a. Determine if there are any empty rows.\n",
    "preferred_cities_df.isnull().sum()"
   ]
  },
  {
   "cell_type": "code",
   "execution_count": 7,
   "metadata": {},
   "outputs": [],
   "source": [
    "# 4b. Drop any empty rows and create a new DataFrame that doesn’t have empty rows.\n",
    "clean_df = preferred_cities_df.dropna()"
   ]
  },
  {
   "cell_type": "code",
   "execution_count": 8,
   "metadata": {},
   "outputs": [
    {
     "output_type": "execute_result",
     "data": {
      "text/plain": "               City Country  Max Temp   Current Description    Lat     Lng  \\\n1            Avarua      CK     78.80      scattered clouds -21.21 -159.78   \n5            Sorong      ID     78.78       overcast clouds  -0.88  131.25   \n9   Varzea Da Palma      BR     83.16      scattered clouds -17.60  -44.73   \n12            Vaini      TO     78.80            few clouds -21.20 -175.20   \n13           Atuona      PF     78.15            light rain  -9.80 -139.03   \n18       Vila Velha      BR     80.01             clear sky -20.33  -40.29   \n21           Davila      PH     77.00         broken clouds  18.47  120.58   \n23       Sao Filipe      CV     79.32             clear sky  14.90  -24.50   \n24          Panguna      PG     79.47            light rain  -6.32  155.48   \n25          Wanning      CN     78.96  heavy intensity rain  18.80  110.40   \n\n   Hotel Name  \n1              \n5              \n9              \n12             \n13             \n18             \n21             \n23             \n24             \n25             ",
      "text/html": "<div>\n<style scoped>\n    .dataframe tbody tr th:only-of-type {\n        vertical-align: middle;\n    }\n\n    .dataframe tbody tr th {\n        vertical-align: top;\n    }\n\n    .dataframe thead th {\n        text-align: right;\n    }\n</style>\n<table border=\"1\" class=\"dataframe\">\n  <thead>\n    <tr style=\"text-align: right;\">\n      <th></th>\n      <th>City</th>\n      <th>Country</th>\n      <th>Max Temp</th>\n      <th>Current Description</th>\n      <th>Lat</th>\n      <th>Lng</th>\n      <th>Hotel Name</th>\n    </tr>\n  </thead>\n  <tbody>\n    <tr>\n      <th>1</th>\n      <td>Avarua</td>\n      <td>CK</td>\n      <td>78.80</td>\n      <td>scattered clouds</td>\n      <td>-21.21</td>\n      <td>-159.78</td>\n      <td></td>\n    </tr>\n    <tr>\n      <th>5</th>\n      <td>Sorong</td>\n      <td>ID</td>\n      <td>78.78</td>\n      <td>overcast clouds</td>\n      <td>-0.88</td>\n      <td>131.25</td>\n      <td></td>\n    </tr>\n    <tr>\n      <th>9</th>\n      <td>Varzea Da Palma</td>\n      <td>BR</td>\n      <td>83.16</td>\n      <td>scattered clouds</td>\n      <td>-17.60</td>\n      <td>-44.73</td>\n      <td></td>\n    </tr>\n    <tr>\n      <th>12</th>\n      <td>Vaini</td>\n      <td>TO</td>\n      <td>78.80</td>\n      <td>few clouds</td>\n      <td>-21.20</td>\n      <td>-175.20</td>\n      <td></td>\n    </tr>\n    <tr>\n      <th>13</th>\n      <td>Atuona</td>\n      <td>PF</td>\n      <td>78.15</td>\n      <td>light rain</td>\n      <td>-9.80</td>\n      <td>-139.03</td>\n      <td></td>\n    </tr>\n    <tr>\n      <th>18</th>\n      <td>Vila Velha</td>\n      <td>BR</td>\n      <td>80.01</td>\n      <td>clear sky</td>\n      <td>-20.33</td>\n      <td>-40.29</td>\n      <td></td>\n    </tr>\n    <tr>\n      <th>21</th>\n      <td>Davila</td>\n      <td>PH</td>\n      <td>77.00</td>\n      <td>broken clouds</td>\n      <td>18.47</td>\n      <td>120.58</td>\n      <td></td>\n    </tr>\n    <tr>\n      <th>23</th>\n      <td>Sao Filipe</td>\n      <td>CV</td>\n      <td>79.32</td>\n      <td>clear sky</td>\n      <td>14.90</td>\n      <td>-24.50</td>\n      <td></td>\n    </tr>\n    <tr>\n      <th>24</th>\n      <td>Panguna</td>\n      <td>PG</td>\n      <td>79.47</td>\n      <td>light rain</td>\n      <td>-6.32</td>\n      <td>155.48</td>\n      <td></td>\n    </tr>\n    <tr>\n      <th>25</th>\n      <td>Wanning</td>\n      <td>CN</td>\n      <td>78.96</td>\n      <td>heavy intensity rain</td>\n      <td>18.80</td>\n      <td>110.40</td>\n      <td></td>\n    </tr>\n  </tbody>\n</table>\n</div>"
     },
     "metadata": {},
     "execution_count": 8
    }
   ],
   "source": [
    "# 5a. Create DataFrame called hotel_df to store hotel names along with city, country, max temp, and coordinates.\n",
    "hotel_df = clean_df[[\"City\", \"Country\", \"Max Temp\", \"Current Description\", \"Lat\", \"Lng\"]].copy()\n",
    "\n",
    "# 5b. Create a new column \"Hotel Name\"\n",
    "hotel_df[\"Hotel Name\"] = \"\"\n",
    "hotel_df.head(10)"
   ]
  },
  {
   "cell_type": "code",
   "execution_count": 9,
   "metadata": {
    "tags": []
   },
   "outputs": [
    {
     "output_type": "stream",
     "name": "stdout",
     "text": "Hotel not found... skipping.\nHotel not found... skipping.\nHotel not found... skipping.\nHotel not found... skipping.\nHotel not found... skipping.\nHotel not found... skipping.\nHotel not found... skipping.\nHotel not found... skipping.\nHotel not found... skipping.\nHotel not found... skipping.\nHotel not found... skipping.\nHotel not found... skipping.\nHotel not found... skipping.\nHotel not found... skipping.\n"
    }
   ],
   "source": [
    "# 6a. Set parameters to search for hotels with 5000 meters.\n",
    "params = {\n",
    "    \"radius\": 5000,\n",
    "    \"type\": \"lodging\",\n",
    "    \"key\": g_key\n",
    "}\n",
    "\n",
    "# 6b. Iterate through the hotel DataFrame.\n",
    "for index, row in hotel_df.iterrows():\n",
    "    # 6c. Get latitude and longitude from DataFrame\n",
    "    lat = row[\"Lat\"]\n",
    "    lng = row[\"Lng\"]\n",
    "    \n",
    "    params[\"location\"] = f\"{lat},{lng}\"\n",
    "    # 6d. Set up the base URL for the Google Directions API to get JSON data.\n",
    "    base_url = \"https://maps.googleapis.com/maps/api/place/nearbysearch/json\"\n",
    "\n",
    "    # 6e. Make request and retrieve the JSON data from the search. \n",
    "    hotels = requests.get(base_url, params=params).json()\n",
    "    \n",
    "    # 6f. Get the first hotel from the results and store the name, if a hotel isn't found skip the city.\n",
    "    try:\n",
    "        hotel_df.loc[index, \"Hotel Name\"] = hotels[\"results\"][0][\"name\"]\n",
    "    except (IndexError):\n",
    "        print(\"Hotel not found... skipping.\") "
   ]
  },
  {
   "cell_type": "code",
   "execution_count": 10,
   "metadata": {},
   "outputs": [],
   "source": [
    "# 7. Drop the rows where there is no Hotel Name.\n",
    "clean_hotel_df = hotel_df.drop(hotel_df.loc[hotel_df['Hotel Name']==\"\"].index)"
   ]
  },
  {
   "cell_type": "code",
   "execution_count": 11,
   "metadata": {},
   "outputs": [],
   "source": [
    "# 8a. Create the output File (CSV)\n",
    "output_data_file = \"WeatherPy_vacation.csv\"\n",
    "# 8b. Export the City_Data into a csv\n",
    "clean_hotel_df.to_csv(output_data_file, index_label=\"City_ID\")"
   ]
  },
  {
   "cell_type": "code",
   "execution_count": 12,
   "metadata": {},
   "outputs": [],
   "source": [
    "# 9. Using the template add city name, the country code, the weather description and maximum temperature for the city.\n",
    "info_box_template = \"\"\"\n",
    "<dl>\n",
    "<dt>City</dt><dd>{City}</dd>\n",
    "<dt>Country</dt><dd>{Country}</dd>\n",
    "<dt>Current Description</dt><dd>{Current Description}</dd>\n",
    "<dt>Max Temp</dt><dd>{Max Temp} °F</dd>\n",
    "</dl>\n",
    "\"\"\"\n",
    "\n",
    "# 10a. Get the data from each row and add it to the formatting template and store the data in a list.\n",
    "hotel_info = [info_box_template.format(**row) for index, row in clean_hotel_df.iterrows()]\n",
    "\n",
    "# 10b. Get the latitude and longitude from each row and store in a new DataFrame.\n",
    "locations = clean_hotel_df[[\"Lat\", \"Lng\"]]"
   ]
  },
  {
   "cell_type": "code",
   "execution_count": 13,
   "metadata": {},
   "outputs": [
    {
     "output_type": "display_data",
     "data": {
      "text/plain": "Figure(layout=FigureLayout(height=&#39;420px&#39;))",
      "application/vnd.jupyter.widget-view+json": {
       "version_major": 2,
       "version_minor": 0,
       "model_id": "9166ebe7606a4dfa893ac3f75ce11a4f"
      }
     },
     "metadata": {}
    }
   ],
   "source": [
    "# 11a. Add a marker layer for each city to the map. \n",
    "fig = gmaps.figure(center=(30.0, 31.0), zoom_level=1.5)\n",
    "marker_layer = gmaps.marker_layer(locations, info_box_content=hotel_info)\n",
    "fig.add_layer(marker_layer)\n",
    "# 11b. Display the figure\n",
    "fig"
   ]
  },
  {
   "cell_type": "code",
   "execution_count": null,
   "metadata": {},
   "outputs": [],
   "source": []
  }
 ],
 "metadata": {
  "kernelspec": {
   "display_name": "data-bootcamp",
   "language": "python",
   "name": "data-bootcamp"
  },
  "language_info": {
   "codemirror_mode": {
    "name": "ipython",
    "version": 3
   },
   "file_extension": ".py",
   "mimetype": "text/x-python",
   "name": "python",
   "nbconvert_exporter": "python",
   "pygments_lexer": "ipython3",
   "version": "3.8.3-final"
  },
  "latex_envs": {
   "LaTeX_envs_menu_present": true,
   "autoclose": false,
   "autocomplete": true,
   "bibliofile": "biblio.bib",
   "cite_by": "apalike",
   "current_citInitial": 1,
   "eqLabelWithNumbers": true,
   "eqNumInitial": 1,
   "hotkeys": {
    "equation": "Ctrl-E",
    "itemize": "Ctrl-I"
   },
   "labels_anchors": false,
   "latex_user_defs": false,
   "report_style_numbering": false,
   "user_envs_cfg": false
  }
 },
 "nbformat": 4,
 "nbformat_minor": 4
}