{
 "cells": [
  {
   "cell_type": "code",
   "execution_count": 2,
   "metadata": {},
   "outputs": [],
   "source": [
    "# Import the dependencies.\n",
    "import pandas as pd\n",
    "import gmaps\n",
    "import requests\n",
    "# Import the API key.\n",
    "from config import g_key"
   ]
  },
  {
   "cell_type": "code",
   "execution_count": 3,
   "metadata": {},
   "outputs": [
    {
     "output_type": "execute_result",
     "data": {
      "text/plain": "   City_ID         City Country                 Date    Lat     Lng  Max Temp  \\\n0        0     Berlevag      NO  2020-09-28 14:37:52  70.86   29.09     51.80   \n1        1  Port Alfred      ZA  2020-09-28 14:37:52 -33.59   26.89     62.13   \n2        2      Qaanaaq      GL  2020-09-28 14:37:52  77.48  -69.36     13.55   \n3        3      Achinsk      RU  2020-09-28 14:37:53  56.27   90.50     40.95   \n4        4  Yellowknife      CA  2020-09-28 14:37:14  62.46 -114.35     46.40   \n\n   Humidity  Cloudiness  Wind Speed  \n0        76          20        9.17  \n1        48           0        7.63  \n2        80           0       10.71  \n3        80           8        7.54  \n4       100          90        8.05  ",
      "text/html": "<div>\n<style scoped>\n    .dataframe tbody tr th:only-of-type {\n        vertical-align: middle;\n    }\n\n    .dataframe tbody tr th {\n        vertical-align: top;\n    }\n\n    .dataframe thead th {\n        text-align: right;\n    }\n</style>\n<table border=\"1\" class=\"dataframe\">\n  <thead>\n    <tr style=\"text-align: right;\">\n      <th></th>\n      <th>City_ID</th>\n      <th>City</th>\n      <th>Country</th>\n      <th>Date</th>\n      <th>Lat</th>\n      <th>Lng</th>\n      <th>Max Temp</th>\n      <th>Humidity</th>\n      <th>Cloudiness</th>\n      <th>Wind Speed</th>\n    </tr>\n  </thead>\n  <tbody>\n    <tr>\n      <th>0</th>\n      <td>0</td>\n      <td>Berlevag</td>\n      <td>NO</td>\n      <td>2020-09-28 14:37:52</td>\n      <td>70.86</td>\n      <td>29.09</td>\n      <td>51.80</td>\n      <td>76</td>\n      <td>20</td>\n      <td>9.17</td>\n    </tr>\n    <tr>\n      <th>1</th>\n      <td>1</td>\n      <td>Port Alfred</td>\n      <td>ZA</td>\n      <td>2020-09-28 14:37:52</td>\n      <td>-33.59</td>\n      <td>26.89</td>\n      <td>62.13</td>\n      <td>48</td>\n      <td>0</td>\n      <td>7.63</td>\n    </tr>\n    <tr>\n      <th>2</th>\n      <td>2</td>\n      <td>Qaanaaq</td>\n      <td>GL</td>\n      <td>2020-09-28 14:37:52</td>\n      <td>77.48</td>\n      <td>-69.36</td>\n      <td>13.55</td>\n      <td>80</td>\n      <td>0</td>\n      <td>10.71</td>\n    </tr>\n    <tr>\n      <th>3</th>\n      <td>3</td>\n      <td>Achinsk</td>\n      <td>RU</td>\n      <td>2020-09-28 14:37:53</td>\n      <td>56.27</td>\n      <td>90.50</td>\n      <td>40.95</td>\n      <td>80</td>\n      <td>8</td>\n      <td>7.54</td>\n    </tr>\n    <tr>\n      <th>4</th>\n      <td>4</td>\n      <td>Yellowknife</td>\n      <td>CA</td>\n      <td>2020-09-28 14:37:14</td>\n      <td>62.46</td>\n      <td>-114.35</td>\n      <td>46.40</td>\n      <td>100</td>\n      <td>90</td>\n      <td>8.05</td>\n    </tr>\n  </tbody>\n</table>\n</div>"
     },
     "metadata": {},
     "execution_count": 3
    }
   ],
   "source": [
    "# Store the CSV you saved created in part one into a DataFrame.\n",
    "city_data_df = pd.read_csv(\"weather_data/cities.csv\")\n",
    "city_data_df.head()"
   ]
  },
  {
   "cell_type": "code",
   "execution_count": 4,
   "metadata": {},
   "outputs": [
    {
     "output_type": "execute_result",
     "data": {
      "text/plain": "City_ID         int64\nCity           object\nCountry        object\nDate           object\nLat           float64\nLng           float64\nMax Temp      float64\nHumidity        int64\nCloudiness      int64\nWind Speed    float64\ndtype: object"
     },
     "metadata": {},
     "execution_count": 4
    }
   ],
   "source": [
    "city_data_df.dtypes"
   ]
  },
  {
   "cell_type": "code",
   "execution_count": 5,
   "metadata": {},
   "outputs": [],
   "source": [
    "# Configure gmaps to use your Google API key.\n",
    "gmaps.configure(api_key=g_key)"
   ]
  },
  {
   "cell_type": "code",
   "execution_count": 8,
   "metadata": {},
   "outputs": [],
   "source": [
    "# Get the maximum temperature.\n",
    "max_temp = city_data_df[\"Max Temp\"]\n",
    "temps = []\n",
    "for temp in max_temp:\n",
    "    temps.append(max(temp, 0))"
   ]
  },
  {
   "cell_type": "code",
   "execution_count": 16,
   "metadata": {},
   "outputs": [
    {
     "output_type": "display_data",
     "data": {
      "text/plain": "Figure(layout=FigureLayout(height='420px'))",
      "application/vnd.jupyter.widget-view+json": {
       "version_major": 2,
       "version_minor": 0,
       "model_id": "a6c51b5b80ab408c98d7f4af04513d4a"
      }
     },
     "metadata": {}
    }
   ],
   "source": [
    "# Heatmap of temperature\n",
    "# Get the latitude and longitude.\n",
    "locations = city_data_df[[\"Lat\", \"Lng\"]]\n",
    "# Get the maximum temperature.\n",
    "max_temp = city_data_df[\"Max Temp\"]\n",
    "# Assign the figure variable.\n",
    "fig = gmaps.figure(center=(30.0, 31.0), zoom_level=2)\n",
    "# Assign the heatmap variable.\n",
    "heat_layer = gmaps.heatmap_layer(locations, weights=temps, dissipating=False, max_intensity=300, point_radius=4)\n",
    "# Add the heatmap layer.\n",
    "fig.add_layer(heat_layer)\n",
    "# Call the figure to plot the data.\n",
    "fig"
   ]
  },
  {
   "cell_type": "code",
   "execution_count": 17,
   "metadata": {},
   "outputs": [
    {
     "output_type": "display_data",
     "data": {
      "text/plain": "Figure(layout=FigureLayout(height='420px'))",
      "application/vnd.jupyter.widget-view+json": {
       "version_major": 2,
       "version_minor": 0,
       "model_id": "b218a74fce834348a84a255f2b4ac7d4"
      }
     },
     "metadata": {}
    }
   ],
   "source": [
    "# Heatmap of percent humidity\n",
    "locations = city_data_df[[\"Lat\", \"Lng\"]]\n",
    "humidity = city_data_df[\"Humidity\"]\n",
    "fig = gmaps.figure(center=(30.0, 31.0), zoom_level=1.5)\n",
    "heat_layer = gmaps.heatmap_layer(locations, weights=humidity, dissipating=False, max_intensity=300, point_radius=4)\n",
    "\n",
    "fig.add_layer(heat_layer)\n",
    "# Call the figure to plot the data.\n",
    "fig"
   ]
  },
  {
   "cell_type": "code",
   "execution_count": 18,
   "metadata": {},
   "outputs": [
    {
     "output_type": "display_data",
     "data": {
      "text/plain": "Figure(layout=FigureLayout(height='420px'))",
      "application/vnd.jupyter.widget-view+json": {
       "version_major": 2,
       "version_minor": 0,
       "model_id": "3f7a6743673a4a49a1f2ad2560c02f52"
      }
     },
     "metadata": {}
    }
   ],
   "source": [
    "# Heatmap of percent cloudiness\n",
    "locations = city_data_df[[\"Lat\", \"Lng\"]]\n",
    "clouds = city_data_df[\"Cloudiness\"]\n",
    "fig = gmaps.figure(center=(30.0, 31.0), zoom_level=1.5)\n",
    "heat_layer = gmaps.heatmap_layer(locations, weights=clouds, dissipating=False, max_intensity=300, point_radius=4)\n",
    "\n",
    "fig.add_layer(heat_layer)\n",
    "# Call the figure to plot the data.\n",
    "fig"
   ]
  },
  {
   "cell_type": "code",
   "execution_count": 19,
   "metadata": {},
   "outputs": [
    {
     "output_type": "display_data",
     "data": {
      "text/plain": "Figure(layout=FigureLayout(height='420px'))",
      "application/vnd.jupyter.widget-view+json": {
       "version_major": 2,
       "version_minor": 0,
       "model_id": "372927b2ab6240a18bf75aff277e3ec0"
      }
     },
     "metadata": {}
    }
   ],
   "source": [
    "# Heatmap of wind speed (mph)\n",
    "locations = city_data_df[[\"Lat\", \"Lng\"]]\n",
    "wind = city_data_df[\"Wind Speed\"]\n",
    "fig = gmaps.figure(center=(30.0, 31.0), zoom_level=1.5)\n",
    "heat_layer = gmaps.heatmap_layer(locations, weights=wind, dissipating=False, max_intensity=300, point_radius=4)\n",
    "\n",
    "fig.add_layer(heat_layer)\n",
    "# Call the figure to plot the data.\n",
    "fig"
   ]
  },
  {
   "cell_type": "code",
   "execution_count": 20,
   "metadata": {},
   "outputs": [],
   "source": [
    "# Ask the customer to add a minimum and maximum temperature value.\n",
    "min_temp = float(input(\"What is the minimum temperature you would like for your trip? \"))\n",
    "max_temp = float(input(\"What is the maximum temperature you would like for your trip? \"))"
   ]
  },
  {
   "cell_type": "code",
   "execution_count": 26,
   "metadata": {},
   "outputs": [
    {
     "output_type": "execute_result",
     "data": {
      "text/plain": "    City_ID           City Country                 Date    Lat     Lng  \\\n18       18         Atuona      PF  2020-09-28 14:37:55  -9.80 -139.03   \n26       26  Alice Springs      AU  2020-09-28 14:37:57 -23.70  133.88   \n28       28      Anapskaya      RU  2020-09-28 14:37:57  44.89   37.38   \n34       34     Butaritari      KI  2020-09-28 14:37:59   3.07  172.79   \n36       36         Zhuhai      CN  2020-09-28 14:37:59  22.28  113.57   \n37       37           Sola      VU  2020-09-28 14:37:59 -13.88  167.55   \n41       41       Lorengau      PG  2020-09-28 14:38:00  -2.02  147.27   \n43       43           Raga      SS  2020-09-28 14:38:01   8.46   25.68   \n52       52     Sao Filipe      CV  2020-09-28 14:38:02  14.90  -24.50   \n56       56         Katobu      ID  2020-09-28 14:38:03  -4.94  122.53   \n\n    Max Temp  Humidity  Cloudiness  Wind Speed  \n18     77.40        75           6       16.55  \n26     80.60        11          40       20.80  \n28     80.01        44          29       11.18  \n34     81.54        73          81       12.33  \n36     82.00        88          40        8.05  \n37     79.30        79           4       16.67  \n41     79.52        82          99        7.40  \n43     82.42        76          37        2.04  \n52     81.52        78          53        8.41  \n56     75.43        86          94        4.79  ",
      "text/html": "<div>\n<style scoped>\n    .dataframe tbody tr th:only-of-type {\n        vertical-align: middle;\n    }\n\n    .dataframe tbody tr th {\n        vertical-align: top;\n    }\n\n    .dataframe thead th {\n        text-align: right;\n    }\n</style>\n<table border=\"1\" class=\"dataframe\">\n  <thead>\n    <tr style=\"text-align: right;\">\n      <th></th>\n      <th>City_ID</th>\n      <th>City</th>\n      <th>Country</th>\n      <th>Date</th>\n      <th>Lat</th>\n      <th>Lng</th>\n      <th>Max Temp</th>\n      <th>Humidity</th>\n      <th>Cloudiness</th>\n      <th>Wind Speed</th>\n    </tr>\n  </thead>\n  <tbody>\n    <tr>\n      <th>18</th>\n      <td>18</td>\n      <td>Atuona</td>\n      <td>PF</td>\n      <td>2020-09-28 14:37:55</td>\n      <td>-9.80</td>\n      <td>-139.03</td>\n      <td>77.40</td>\n      <td>75</td>\n      <td>6</td>\n      <td>16.55</td>\n    </tr>\n    <tr>\n      <th>26</th>\n      <td>26</td>\n      <td>Alice Springs</td>\n      <td>AU</td>\n      <td>2020-09-28 14:37:57</td>\n      <td>-23.70</td>\n      <td>133.88</td>\n      <td>80.60</td>\n      <td>11</td>\n      <td>40</td>\n      <td>20.80</td>\n    </tr>\n    <tr>\n      <th>28</th>\n      <td>28</td>\n      <td>Anapskaya</td>\n      <td>RU</td>\n      <td>2020-09-28 14:37:57</td>\n      <td>44.89</td>\n      <td>37.38</td>\n      <td>80.01</td>\n      <td>44</td>\n      <td>29</td>\n      <td>11.18</td>\n    </tr>\n    <tr>\n      <th>34</th>\n      <td>34</td>\n      <td>Butaritari</td>\n      <td>KI</td>\n      <td>2020-09-28 14:37:59</td>\n      <td>3.07</td>\n      <td>172.79</td>\n      <td>81.54</td>\n      <td>73</td>\n      <td>81</td>\n      <td>12.33</td>\n    </tr>\n    <tr>\n      <th>36</th>\n      <td>36</td>\n      <td>Zhuhai</td>\n      <td>CN</td>\n      <td>2020-09-28 14:37:59</td>\n      <td>22.28</td>\n      <td>113.57</td>\n      <td>82.00</td>\n      <td>88</td>\n      <td>40</td>\n      <td>8.05</td>\n    </tr>\n    <tr>\n      <th>37</th>\n      <td>37</td>\n      <td>Sola</td>\n      <td>VU</td>\n      <td>2020-09-28 14:37:59</td>\n      <td>-13.88</td>\n      <td>167.55</td>\n      <td>79.30</td>\n      <td>79</td>\n      <td>4</td>\n      <td>16.67</td>\n    </tr>\n    <tr>\n      <th>41</th>\n      <td>41</td>\n      <td>Lorengau</td>\n      <td>PG</td>\n      <td>2020-09-28 14:38:00</td>\n      <td>-2.02</td>\n      <td>147.27</td>\n      <td>79.52</td>\n      <td>82</td>\n      <td>99</td>\n      <td>7.40</td>\n    </tr>\n    <tr>\n      <th>43</th>\n      <td>43</td>\n      <td>Raga</td>\n      <td>SS</td>\n      <td>2020-09-28 14:38:01</td>\n      <td>8.46</td>\n      <td>25.68</td>\n      <td>82.42</td>\n      <td>76</td>\n      <td>37</td>\n      <td>2.04</td>\n    </tr>\n    <tr>\n      <th>52</th>\n      <td>52</td>\n      <td>Sao Filipe</td>\n      <td>CV</td>\n      <td>2020-09-28 14:38:02</td>\n      <td>14.90</td>\n      <td>-24.50</td>\n      <td>81.52</td>\n      <td>78</td>\n      <td>53</td>\n      <td>8.41</td>\n    </tr>\n    <tr>\n      <th>56</th>\n      <td>56</td>\n      <td>Katobu</td>\n      <td>ID</td>\n      <td>2020-09-28 14:38:03</td>\n      <td>-4.94</td>\n      <td>122.53</td>\n      <td>75.43</td>\n      <td>86</td>\n      <td>94</td>\n      <td>4.79</td>\n    </tr>\n  </tbody>\n</table>\n</div>"
     },
     "metadata": {},
     "execution_count": 26
    }
   ],
   "source": [
    "# Filter the dataset to find the cities that fit the criteria.\n",
    "preferred_cities_df = city_data_df.loc[(city_data_df[\"Max Temp\"] <= max_temp) & \\\n",
    "                                       (city_data_df[\"Max Temp\"] >= min_temp)].dropna()\n",
    "preferred_cities_df.head(10)"
   ]
  },
  {
   "cell_type": "code",
   "execution_count": 27,
   "metadata": {},
   "outputs": [
    {
     "output_type": "execute_result",
     "data": {
      "text/plain": "City_ID       184\nCity          184\nCountry       184\nDate          184\nLat           184\nLng           184\nMax Temp      184\nHumidity      184\nCloudiness    184\nWind Speed    184\ndtype: int64"
     },
     "metadata": {},
     "execution_count": 27
    }
   ],
   "source": [
    "preferred_cities_df.count()"
   ]
  },
  {
   "cell_type": "code",
   "execution_count": 28,
   "metadata": {},
   "outputs": [
    {
     "output_type": "execute_result",
     "data": {
      "text/plain": "             City Country  Max Temp    Lat     Lng Hotel Name\n18         Atuona      PF     77.40  -9.80 -139.03           \n26  Alice Springs      AU     80.60 -23.70  133.88           \n28      Anapskaya      RU     80.01  44.89   37.38           \n34     Butaritari      KI     81.54   3.07  172.79           \n36         Zhuhai      CN     82.00  22.28  113.57           \n37           Sola      VU     79.30 -13.88  167.55           \n41       Lorengau      PG     79.52  -2.02  147.27           \n43           Raga      SS     82.42   8.46   25.68           \n52     Sao Filipe      CV     81.52  14.90  -24.50           \n56         Katobu      ID     75.43  -4.94  122.53           ",
      "text/html": "<div>\n<style scoped>\n    .dataframe tbody tr th:only-of-type {\n        vertical-align: middle;\n    }\n\n    .dataframe tbody tr th {\n        vertical-align: top;\n    }\n\n    .dataframe thead th {\n        text-align: right;\n    }\n</style>\n<table border=\"1\" class=\"dataframe\">\n  <thead>\n    <tr style=\"text-align: right;\">\n      <th></th>\n      <th>City</th>\n      <th>Country</th>\n      <th>Max Temp</th>\n      <th>Lat</th>\n      <th>Lng</th>\n      <th>Hotel Name</th>\n    </tr>\n  </thead>\n  <tbody>\n    <tr>\n      <th>18</th>\n      <td>Atuona</td>\n      <td>PF</td>\n      <td>77.40</td>\n      <td>-9.80</td>\n      <td>-139.03</td>\n      <td></td>\n    </tr>\n    <tr>\n      <th>26</th>\n      <td>Alice Springs</td>\n      <td>AU</td>\n      <td>80.60</td>\n      <td>-23.70</td>\n      <td>133.88</td>\n      <td></td>\n    </tr>\n    <tr>\n      <th>28</th>\n      <td>Anapskaya</td>\n      <td>RU</td>\n      <td>80.01</td>\n      <td>44.89</td>\n      <td>37.38</td>\n      <td></td>\n    </tr>\n    <tr>\n      <th>34</th>\n      <td>Butaritari</td>\n      <td>KI</td>\n      <td>81.54</td>\n      <td>3.07</td>\n      <td>172.79</td>\n      <td></td>\n    </tr>\n    <tr>\n      <th>36</th>\n      <td>Zhuhai</td>\n      <td>CN</td>\n      <td>82.00</td>\n      <td>22.28</td>\n      <td>113.57</td>\n      <td></td>\n    </tr>\n    <tr>\n      <th>37</th>\n      <td>Sola</td>\n      <td>VU</td>\n      <td>79.30</td>\n      <td>-13.88</td>\n      <td>167.55</td>\n      <td></td>\n    </tr>\n    <tr>\n      <th>41</th>\n      <td>Lorengau</td>\n      <td>PG</td>\n      <td>79.52</td>\n      <td>-2.02</td>\n      <td>147.27</td>\n      <td></td>\n    </tr>\n    <tr>\n      <th>43</th>\n      <td>Raga</td>\n      <td>SS</td>\n      <td>82.42</td>\n      <td>8.46</td>\n      <td>25.68</td>\n      <td></td>\n    </tr>\n    <tr>\n      <th>52</th>\n      <td>Sao Filipe</td>\n      <td>CV</td>\n      <td>81.52</td>\n      <td>14.90</td>\n      <td>-24.50</td>\n      <td></td>\n    </tr>\n    <tr>\n      <th>56</th>\n      <td>Katobu</td>\n      <td>ID</td>\n      <td>75.43</td>\n      <td>-4.94</td>\n      <td>122.53</td>\n      <td></td>\n    </tr>\n  </tbody>\n</table>\n</div>"
     },
     "metadata": {},
     "execution_count": 28
    }
   ],
   "source": [
    "# Create DataFrame called hotel_df to store hotel names along with city, country, max temp, and coordinates.\n",
    "hotel_df = preferred_cities_df[[\"City\", \"Country\", \"Max Temp\", \"Lat\", \"Lng\"]].copy()\n",
    "hotel_df[\"Hotel Name\"] = \"\"\n",
    "hotel_df.head(10)"
   ]
  },
  {
   "cell_type": "code",
   "execution_count": 30,
   "metadata": {},
   "outputs": [],
   "source": [
    "# Set parameters to search for a hotel.\n",
    "params = {\n",
    "    \"radius\": 5000,\n",
    "    \"type\": \"lodging\",\n",
    "    \"key\": g_key\n",
    "}"
   ]
  },
  {
   "cell_type": "code",
   "execution_count": 32,
   "metadata": {
    "tags": []
   },
   "outputs": [
    {
     "output_type": "stream",
     "name": "stdout",
     "text": "Hotel not found... skipping.\nHotel not found... skipping.\nHotel not found... skipping.\nHotel not found... skipping.\nHotel not found... skipping.\nHotel not found... skipping.\nHotel not found... skipping.\nHotel not found... skipping.\nHotel not found... skipping.\nHotel not found... skipping.\n"
    }
   ],
   "source": [
    "# Iterate through the DataFrame.\n",
    "for index, row in hotel_df.iterrows():\n",
    "    # Get the latitude and longitude.\n",
    "    lat = row[\"Lat\"]\n",
    "    lng = row[\"Lng\"]\n",
    "\n",
    "    # Add the latitude and longitude to location key for the params dictionary.\n",
    "    params[\"location\"] = f\"{lat},{lng}\"\n",
    "\n",
    "    # Use the search term: \"lodging\" and our latitude and longitude.\n",
    "    base_url = \"https://maps.googleapis.com/maps/api/place/nearbysearch/json\"\n",
    "    # Make request and get the JSON data from the search.\n",
    "    hotels = requests.get(base_url, params=params).json()\n",
    "    # Grab the first hotel from the results and store the name.\n",
    "    try:\n",
    "        hotel_df.loc[index, \"Hotel Name\"] = hotels[\"results\"][0][\"name\"]\n",
    "    except (IndexError):\n",
    "        print(\"Hotel not found... skipping.\")"
   ]
  },
  {
   "cell_type": "code",
   "execution_count": 36,
   "metadata": {},
   "outputs": [
    {
     "output_type": "execute_result",
     "data": {
      "text/plain": "             City Country  Max Temp    Lat     Lng                  Hotel Name\n18         Atuona      PF     77.40  -9.80 -139.03                 Villa Enata\n26  Alice Springs      AU     80.60 -23.70  133.88  Desert Palms Alice Springs\n28      Anapskaya      RU     80.01  44.89   37.38             Continent Hotel\n34     Butaritari      KI     81.54   3.07  172.79          Isles Sunset Lodge\n36         Zhuhai      CN     82.00  22.28  113.57                    珠海粤财假日酒店",
      "text/html": "<div>\n<style scoped>\n    .dataframe tbody tr th:only-of-type {\n        vertical-align: middle;\n    }\n\n    .dataframe tbody tr th {\n        vertical-align: top;\n    }\n\n    .dataframe thead th {\n        text-align: right;\n    }\n</style>\n<table border=\"1\" class=\"dataframe\">\n  <thead>\n    <tr style=\"text-align: right;\">\n      <th></th>\n      <th>City</th>\n      <th>Country</th>\n      <th>Max Temp</th>\n      <th>Lat</th>\n      <th>Lng</th>\n      <th>Hotel Name</th>\n    </tr>\n  </thead>\n  <tbody>\n    <tr>\n      <th>18</th>\n      <td>Atuona</td>\n      <td>PF</td>\n      <td>77.40</td>\n      <td>-9.80</td>\n      <td>-139.03</td>\n      <td>Villa Enata</td>\n    </tr>\n    <tr>\n      <th>26</th>\n      <td>Alice Springs</td>\n      <td>AU</td>\n      <td>80.60</td>\n      <td>-23.70</td>\n      <td>133.88</td>\n      <td>Desert Palms Alice Springs</td>\n    </tr>\n    <tr>\n      <th>28</th>\n      <td>Anapskaya</td>\n      <td>RU</td>\n      <td>80.01</td>\n      <td>44.89</td>\n      <td>37.38</td>\n      <td>Continent Hotel</td>\n    </tr>\n    <tr>\n      <th>34</th>\n      <td>Butaritari</td>\n      <td>KI</td>\n      <td>81.54</td>\n      <td>3.07</td>\n      <td>172.79</td>\n      <td>Isles Sunset Lodge</td>\n    </tr>\n    <tr>\n      <th>36</th>\n      <td>Zhuhai</td>\n      <td>CN</td>\n      <td>82.00</td>\n      <td>22.28</td>\n      <td>113.57</td>\n      <td>珠海粤财假日酒店</td>\n    </tr>\n  </tbody>\n</table>\n</div>"
     },
     "metadata": {},
     "execution_count": 36
    }
   ],
   "source": [
    "hotel_df.head()"
   ]
  },
  {
   "cell_type": "code",
   "execution_count": 37,
   "metadata": {},
   "outputs": [
    {
     "output_type": "display_data",
     "data": {
      "text/plain": "Figure(layout=FigureLayout(height='420px'))",
      "application/vnd.jupyter.widget-view+json": {
       "version_major": 2,
       "version_minor": 0,
       "model_id": "41f32fda41ba4c8da1b3a32f75a31d33"
      }
     },
     "metadata": {}
    }
   ],
   "source": [
    "# Add a heatmap of temperature for the vacation spots.\n",
    "locations = hotel_df[[\"Lat\", \"Lng\"]]\n",
    "max_temp = hotel_df[\"Max Temp\"]\n",
    "fig = gmaps.figure(center=(30.0, 31.0), zoom_level=1.5)\n",
    "heat_layer = gmaps.heatmap_layer(locations, weights=max_temp, dissipating=False,\n",
    "             max_intensity=300, point_radius=4)\n",
    "\n",
    "fig.add_layer(heat_layer)\n",
    "# Call the figure to plot the data.\n",
    "fig"
   ]
  },
  {
   "cell_type": "code",
   "execution_count": 38,
   "metadata": {},
   "outputs": [
    {
     "output_type": "display_data",
     "data": {
      "text/plain": "Figure(layout=FigureLayout(height='420px'))",
      "application/vnd.jupyter.widget-view+json": {
       "version_major": 2,
       "version_minor": 0,
       "model_id": "4a111a5e734b4dafb2338af11d4e021c"
      }
     },
     "metadata": {}
    }
   ],
   "source": [
    "# Add a heatmap of temperature for the vacation spots and marker for each city.\n",
    "locations = hotel_df[[\"Lat\", \"Lng\"]]\n",
    "max_temp = hotel_df[\"Max Temp\"]\n",
    "fig = gmaps.figure(center=(30.0, 31.0), zoom_level=1.5)\n",
    "heat_layer = gmaps.heatmap_layer(locations, weights=max_temp,\n",
    "             dissipating=False, max_intensity=300, point_radius=4)\n",
    "marker_layer = gmaps.marker_layer(locations)\n",
    "fig.add_layer(heat_layer)\n",
    "fig.add_layer(marker_layer)\n",
    "# Call the figure to plot the data.\n",
    "fig"
   ]
  },
  {
   "cell_type": "code",
   "execution_count": 39,
   "metadata": {},
   "outputs": [],
   "source": [
    "info_box_template = \"\"\"\n",
    "<dl>\n",
    "<dt>Hotel Name</dt><dd>{Hotel Name}</dd>\n",
    "<dt>City</dt><dd>{City}</dd>\n",
    "<dt>Country</dt><dd>{Country}</dd>\n",
    "<dt>Max Temp</dt><dd>{Max Temp} °F</dd>\n",
    "</dl>\n",
    "\"\"\""
   ]
  },
  {
   "cell_type": "code",
   "execution_count": 40,
   "metadata": {},
   "outputs": [],
   "source": [
    "# Store the DataFrame Row.\n",
    "hotel_info = [info_box_template.format(**row) for index, row in hotel_df.iterrows()]"
   ]
  },
  {
   "cell_type": "code",
   "execution_count": 41,
   "metadata": {},
   "outputs": [
    {
     "output_type": "display_data",
     "data": {
      "text/plain": "Figure(layout=FigureLayout(height='420px'))",
      "application/vnd.jupyter.widget-view+json": {
       "version_major": 2,
       "version_minor": 0,
       "model_id": "1e8fcd39f696447fb17782d866d8d9b7"
      }
     },
     "metadata": {}
    }
   ],
   "source": [
    "# Add a heatmap of temperature for the vacation spots and a pop-up marker for each city.\n",
    "locations = hotel_df[[\"Lat\", \"Lng\"]]\n",
    "max_temp = hotel_df[\"Max Temp\"]\n",
    "fig = gmaps.figure(center=(30.0, 31.0), zoom_level=1.5)\n",
    "heat_layer = gmaps.heatmap_layer(locations, weights=max_temp,dissipating=False,\n",
    "             max_intensity=300, point_radius=4)\n",
    "marker_layer = gmaps.marker_layer(locations, info_box_content=hotel_info)\n",
    "fig.add_layer(heat_layer)\n",
    "fig.add_layer(marker_layer)\n",
    "\n",
    "# Call the figure to plot the data.\n",
    "fig"
   ]
  },
  {
   "cell_type": "code",
   "execution_count": null,
   "metadata": {},
   "outputs": [],
   "source": []
  }
 ],
 "metadata": {
  "kernelspec": {
   "display_name": "data-bootcamp",
   "language": "python",
   "name": "data-bootcamp"
  },
  "language_info": {
   "codemirror_mode": {
    "name": "ipython",
    "version": 3
   },
   "file_extension": ".py",
   "mimetype": "text/x-python",
   "name": "python",
   "nbconvert_exporter": "python",
   "pygments_lexer": "ipython3",
   "version": "3.8.3-final"
  }
 },
 "nbformat": 4,
 "nbformat_minor": 4
}